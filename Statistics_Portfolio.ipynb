{
  "metadata": {
    "kernelspec": {
      "name": "python",
      "display_name": "Python (Pyodide)",
      "language": "python"
    },
    "language_info": {
      "codemirror_mode": {
        "name": "python",
        "version": 3
      },
      "file_extension": ".py",
      "mimetype": "text/x-python",
      "name": "python",
      "nbconvert_exporter": "python",
      "pygments_lexer": "ipython3",
      "version": "3.8"
    }
  },
  "nbformat_minor": 4,
  "nbformat": 4,
  "cells": [
    {
      "cell_type": "code",
      "source": "import numpy as np\nimport pandas as pd\nimport matplotlib.pyplot as mpl\nfrom scipy import stats\nimport statsmodels.api as sm",
      "metadata": {
        "trusted": true
      },
      "outputs": [],
      "execution_count": 1
    },
    {
      "cell_type": "code",
      "source": "df = pd.read_csv('hospitals.csv')\ndf = df.dropna()\ndf",
      "metadata": {
        "trusted": true
      },
      "outputs": [
        {
          "execution_count": 2,
          "output_type": "execute_result",
          "data": {
            "text/plain": "        id                                              name  \\\n0        1                     Southern Hills Medical Center   \n1        2                          Sycamore Shoals Hospital   \n2        3                                   Tokona Hospital   \n3        4  University of Tennessee Child Development Center   \n4        5                        Volunteer General Hospital   \n...    ...                                               ...   \n6496  6497                               Saint Jude Hospital   \n6497  6498                              Saint Marys Hospital   \n6498  6499                             Saint Thomas Hospital   \n6499  6500                             Scott County Hospital   \n6500  6501      Sequoyah Branch Johnson Mental Health Center   \n\n                  city state        lon        lat  \n0           BERRY HILL    TN -86.721939  36.077843  \n1         ELIZABETHTON    TN -82.247635  36.346218  \n2          GREENEVILLE    TN -82.845711  36.151772  \n3     DOWNTOWN MEMPHIS    TN -90.037033  35.142872  \n4               MARTIN    TN -88.868393  36.335064  \n...                ...   ...        ...        ...  \n6496  DOWNTOWN MEMPHIS    TN -90.043152  35.152870  \n6497            GIBSON    TN -88.904503  35.822567  \n6498       BELLE MEADE    TN -86.801666  36.152557  \n6499            ONEIDA    KY -84.515770  36.504520  \n6500     MIDDLE VALLEY    TN -85.188843  35.245899  \n\n[6481 rows x 6 columns]",
            "text/html": "<div>\n<style scoped>\n    .dataframe tbody tr th:only-of-type {\n        vertical-align: middle;\n    }\n\n    .dataframe tbody tr th {\n        vertical-align: top;\n    }\n\n    .dataframe thead th {\n        text-align: right;\n    }\n</style>\n<table border=\"1\" class=\"dataframe\">\n  <thead>\n    <tr style=\"text-align: right;\">\n      <th></th>\n      <th>id</th>\n      <th>name</th>\n      <th>city</th>\n      <th>state</th>\n      <th>lon</th>\n      <th>lat</th>\n    </tr>\n  </thead>\n  <tbody>\n    <tr>\n      <th>0</th>\n      <td>1</td>\n      <td>Southern Hills Medical Center</td>\n      <td>BERRY HILL</td>\n      <td>TN</td>\n      <td>-86.721939</td>\n      <td>36.077843</td>\n    </tr>\n    <tr>\n      <th>1</th>\n      <td>2</td>\n      <td>Sycamore Shoals Hospital</td>\n      <td>ELIZABETHTON</td>\n      <td>TN</td>\n      <td>-82.247635</td>\n      <td>36.346218</td>\n    </tr>\n    <tr>\n      <th>2</th>\n      <td>3</td>\n      <td>Tokona Hospital</td>\n      <td>GREENEVILLE</td>\n      <td>TN</td>\n      <td>-82.845711</td>\n      <td>36.151772</td>\n    </tr>\n    <tr>\n      <th>3</th>\n      <td>4</td>\n      <td>University of Tennessee Child Development Center</td>\n      <td>DOWNTOWN MEMPHIS</td>\n      <td>TN</td>\n      <td>-90.037033</td>\n      <td>35.142872</td>\n    </tr>\n    <tr>\n      <th>4</th>\n      <td>5</td>\n      <td>Volunteer General Hospital</td>\n      <td>MARTIN</td>\n      <td>TN</td>\n      <td>-88.868393</td>\n      <td>36.335064</td>\n    </tr>\n    <tr>\n      <th>...</th>\n      <td>...</td>\n      <td>...</td>\n      <td>...</td>\n      <td>...</td>\n      <td>...</td>\n      <td>...</td>\n    </tr>\n    <tr>\n      <th>6496</th>\n      <td>6497</td>\n      <td>Saint Jude Hospital</td>\n      <td>DOWNTOWN MEMPHIS</td>\n      <td>TN</td>\n      <td>-90.043152</td>\n      <td>35.152870</td>\n    </tr>\n    <tr>\n      <th>6497</th>\n      <td>6498</td>\n      <td>Saint Marys Hospital</td>\n      <td>GIBSON</td>\n      <td>TN</td>\n      <td>-88.904503</td>\n      <td>35.822567</td>\n    </tr>\n    <tr>\n      <th>6498</th>\n      <td>6499</td>\n      <td>Saint Thomas Hospital</td>\n      <td>BELLE MEADE</td>\n      <td>TN</td>\n      <td>-86.801666</td>\n      <td>36.152557</td>\n    </tr>\n    <tr>\n      <th>6499</th>\n      <td>6500</td>\n      <td>Scott County Hospital</td>\n      <td>ONEIDA</td>\n      <td>KY</td>\n      <td>-84.515770</td>\n      <td>36.504520</td>\n    </tr>\n    <tr>\n      <th>6500</th>\n      <td>6501</td>\n      <td>Sequoyah Branch Johnson Mental Health Center</td>\n      <td>MIDDLE VALLEY</td>\n      <td>TN</td>\n      <td>-85.188843</td>\n      <td>35.245899</td>\n    </tr>\n  </tbody>\n</table>\n<p>6481 rows × 6 columns</p>\n</div>"
          },
          "metadata": {}
        }
      ],
      "execution_count": 2
    },
    {
      "cell_type": "code",
      "source": "df.head()",
      "metadata": {
        "trusted": true
      },
      "outputs": [
        {
          "execution_count": 3,
          "output_type": "execute_result",
          "data": {
            "text/plain": "   id                                              name              city  \\\n0   1                     Southern Hills Medical Center        BERRY HILL   \n1   2                          Sycamore Shoals Hospital      ELIZABETHTON   \n2   3                                   Tokona Hospital       GREENEVILLE   \n3   4  University of Tennessee Child Development Center  DOWNTOWN MEMPHIS   \n4   5                        Volunteer General Hospital            MARTIN   \n\n  state        lon        lat  \n0    TN -86.721939  36.077843  \n1    TN -82.247635  36.346218  \n2    TN -82.845711  36.151772  \n3    TN -90.037033  35.142872  \n4    TN -88.868393  36.335064  ",
            "text/html": "<div>\n<style scoped>\n    .dataframe tbody tr th:only-of-type {\n        vertical-align: middle;\n    }\n\n    .dataframe tbody tr th {\n        vertical-align: top;\n    }\n\n    .dataframe thead th {\n        text-align: right;\n    }\n</style>\n<table border=\"1\" class=\"dataframe\">\n  <thead>\n    <tr style=\"text-align: right;\">\n      <th></th>\n      <th>id</th>\n      <th>name</th>\n      <th>city</th>\n      <th>state</th>\n      <th>lon</th>\n      <th>lat</th>\n    </tr>\n  </thead>\n  <tbody>\n    <tr>\n      <th>0</th>\n      <td>1</td>\n      <td>Southern Hills Medical Center</td>\n      <td>BERRY HILL</td>\n      <td>TN</td>\n      <td>-86.721939</td>\n      <td>36.077843</td>\n    </tr>\n    <tr>\n      <th>1</th>\n      <td>2</td>\n      <td>Sycamore Shoals Hospital</td>\n      <td>ELIZABETHTON</td>\n      <td>TN</td>\n      <td>-82.247635</td>\n      <td>36.346218</td>\n    </tr>\n    <tr>\n      <th>2</th>\n      <td>3</td>\n      <td>Tokona Hospital</td>\n      <td>GREENEVILLE</td>\n      <td>TN</td>\n      <td>-82.845711</td>\n      <td>36.151772</td>\n    </tr>\n    <tr>\n      <th>3</th>\n      <td>4</td>\n      <td>University of Tennessee Child Development Center</td>\n      <td>DOWNTOWN MEMPHIS</td>\n      <td>TN</td>\n      <td>-90.037033</td>\n      <td>35.142872</td>\n    </tr>\n    <tr>\n      <th>4</th>\n      <td>5</td>\n      <td>Volunteer General Hospital</td>\n      <td>MARTIN</td>\n      <td>TN</td>\n      <td>-88.868393</td>\n      <td>36.335064</td>\n    </tr>\n  </tbody>\n</table>\n</div>"
          },
          "metadata": {}
        }
      ],
      "execution_count": 3
    },
    {
      "cell_type": "code",
      "source": "df.describe()",
      "metadata": {
        "trusted": true
      },
      "outputs": [
        {
          "execution_count": 4,
          "output_type": "execute_result",
          "data": {
            "text/plain": "                id          lon          lat\ncount  6481.000000  6481.000000  6481.000000\nmean   3255.364759   -92.894205    38.134881\nstd    1877.633848    15.225727     5.169106\nmin       1.000000  -159.364700    19.519756\n25%    1624.000000  -104.784134    34.090714\n50%    3261.000000   -88.190918    38.658939\n75%    4881.000000   -81.548454    41.711990\nmax    6501.000000   -68.416138    61.188889",
            "text/html": "<div>\n<style scoped>\n    .dataframe tbody tr th:only-of-type {\n        vertical-align: middle;\n    }\n\n    .dataframe tbody tr th {\n        vertical-align: top;\n    }\n\n    .dataframe thead th {\n        text-align: right;\n    }\n</style>\n<table border=\"1\" class=\"dataframe\">\n  <thead>\n    <tr style=\"text-align: right;\">\n      <th></th>\n      <th>id</th>\n      <th>lon</th>\n      <th>lat</th>\n    </tr>\n  </thead>\n  <tbody>\n    <tr>\n      <th>count</th>\n      <td>6481.000000</td>\n      <td>6481.000000</td>\n      <td>6481.000000</td>\n    </tr>\n    <tr>\n      <th>mean</th>\n      <td>3255.364759</td>\n      <td>-92.894205</td>\n      <td>38.134881</td>\n    </tr>\n    <tr>\n      <th>std</th>\n      <td>1877.633848</td>\n      <td>15.225727</td>\n      <td>5.169106</td>\n    </tr>\n    <tr>\n      <th>min</th>\n      <td>1.000000</td>\n      <td>-159.364700</td>\n      <td>19.519756</td>\n    </tr>\n    <tr>\n      <th>25%</th>\n      <td>1624.000000</td>\n      <td>-104.784134</td>\n      <td>34.090714</td>\n    </tr>\n    <tr>\n      <th>50%</th>\n      <td>3261.000000</td>\n      <td>-88.190918</td>\n      <td>38.658939</td>\n    </tr>\n    <tr>\n      <th>75%</th>\n      <td>4881.000000</td>\n      <td>-81.548454</td>\n      <td>41.711990</td>\n    </tr>\n    <tr>\n      <th>max</th>\n      <td>6501.000000</td>\n      <td>-68.416138</td>\n      <td>61.188889</td>\n    </tr>\n  </tbody>\n</table>\n</div>"
          },
          "metadata": {}
        }
      ],
      "execution_count": 4
    },
    {
      "cell_type": "code",
      "source": "",
      "metadata": {
        "trusted": true
      },
      "outputs": [],
      "execution_count": null
    }
  ]
}